{
 "cells": [
  {
   "cell_type": "markdown",
   "id": "10a7f910-f218-433e-aea1-fa2696811be3",
   "metadata": {},
   "source": [
    "Stock Keeping Units ( Kmeans & Agglomerative Clustering)"
   ]
  },
  {
   "cell_type": "markdown",
   "id": "b868d92a-34db-43d7-97d3-82b84c11d3c2",
   "metadata": {},
   "source": [
    "Problem Statement :\n",
    "\n",
    "To improve inventory management efficiency, leverage the characteristics of stock keeping units (SKUs) provided by Trialto Latvia LTD. Using a dataset of 2279 SKUs with features such as unit price, expire date, and handling metrics, the aim is to cluster products based on handling and turnover-related factors. This will optimize logistics operations by enhancing demand forecasting and inventory handling, leading to better resource allocation and reduced wastage.  "
   ]
  },
  {
   "cell_type": "markdown",
   "id": "f7130493-7f00-4bc2-95a3-8782a434a79a",
   "metadata": {},
   "source": [
    "1. KMeans Clustering"
   ]
  },
  {
   "cell_type": "code",
   "execution_count": 88,
   "id": "b6a5033d-1810-4e62-8499-31ee5171eff6",
   "metadata": {},
   "outputs": [],
   "source": [
    "import pandas as pd # A single line of code uses the pandas library to import data into a Python environment, which allows for data manipulation and analysis.  "
   ]
  },
  {
   "cell_type": "code",
   "execution_count": 89,
   "id": "b1a81f5b-089c-4c2c-a617-a11480d24226",
   "metadata": {},
   "outputs": [],
   "source": [
    "df=pd.read_excel(r\"E:\\SNIGDHA\\IMI-K Course Outline & Study Material\\Term-IV\\Data Analytics & Machine Learning\\EndTerm Assignment\\stock+keeping+units\\sku_data.xlsx\")\n",
    "# This line of code uses the pandas library to load an Excel file named “sku_data.xlsx” into a DataFrame object named `df`, enabling subsequent data manipulation and analysis within Python.  "
   ]
  },
  {
   "cell_type": "code",
   "execution_count": 90,
   "id": "2cce1e47-9955-4991-a44b-f9e59f5a4317",
   "metadata": {},
   "outputs": [
    {
     "data": {
      "text/html": [
       "<div>\n",
       "<style scoped>\n",
       "    .dataframe tbody tr th:only-of-type {\n",
       "        vertical-align: middle;\n",
       "    }\n",
       "\n",
       "    .dataframe tbody tr th {\n",
       "        vertical-align: top;\n",
       "    }\n",
       "\n",
       "    .dataframe thead th {\n",
       "        text-align: right;\n",
       "    }\n",
       "</style>\n",
       "<table border=\"1\" class=\"dataframe\">\n",
       "  <thead>\n",
       "    <tr style=\"text-align: right;\">\n",
       "      <th></th>\n",
       "      <th>ID</th>\n",
       "      <th>Unitprice</th>\n",
       "      <th>Expire date</th>\n",
       "      <th>Outbound number</th>\n",
       "      <th>Total outbound</th>\n",
       "      <th>Pal grossweight</th>\n",
       "      <th>Pal height</th>\n",
       "      <th>Units per pal</th>\n",
       "    </tr>\n",
       "  </thead>\n",
       "  <tbody>\n",
       "    <tr>\n",
       "      <th>0</th>\n",
       "      <td>1</td>\n",
       "      <td>0.058</td>\n",
       "      <td>547</td>\n",
       "      <td>9</td>\n",
       "      <td>2441.0</td>\n",
       "      <td>105.60</td>\n",
       "      <td>1.56</td>\n",
       "      <td>1920</td>\n",
       "    </tr>\n",
       "    <tr>\n",
       "      <th>1</th>\n",
       "      <td>2</td>\n",
       "      <td>0.954</td>\n",
       "      <td>547</td>\n",
       "      <td>0</td>\n",
       "      <td>0.0</td>\n",
       "      <td>207.68</td>\n",
       "      <td>1.00</td>\n",
       "      <td>384</td>\n",
       "    </tr>\n",
       "    <tr>\n",
       "      <th>2</th>\n",
       "      <td>3</td>\n",
       "      <td>2.385</td>\n",
       "      <td>547</td>\n",
       "      <td>12</td>\n",
       "      <td>23.0</td>\n",
       "      <td>165.78</td>\n",
       "      <td>1.02</td>\n",
       "      <td>108</td>\n",
       "    </tr>\n",
       "    <tr>\n",
       "      <th>3</th>\n",
       "      <td>4</td>\n",
       "      <td>5.100</td>\n",
       "      <td>547</td>\n",
       "      <td>0</td>\n",
       "      <td>0.0</td>\n",
       "      <td>221.04</td>\n",
       "      <td>1.05</td>\n",
       "      <td>72</td>\n",
       "    </tr>\n",
       "    <tr>\n",
       "      <th>4</th>\n",
       "      <td>5</td>\n",
       "      <td>0.000</td>\n",
       "      <td>547</td>\n",
       "      <td>0</td>\n",
       "      <td>0.0</td>\n",
       "      <td>0.00</td>\n",
       "      <td>0.00</td>\n",
       "      <td>0</td>\n",
       "    </tr>\n",
       "  </tbody>\n",
       "</table>\n",
       "</div>"
      ],
      "text/plain": [
       "   ID  Unitprice  Expire date  Outbound number  Total outbound  \\\n",
       "0   1      0.058          547                9          2441.0   \n",
       "1   2      0.954          547                0             0.0   \n",
       "2   3      2.385          547               12            23.0   \n",
       "3   4      5.100          547                0             0.0   \n",
       "4   5      0.000          547                0             0.0   \n",
       "\n",
       "   Pal grossweight  Pal height  Units per pal  \n",
       "0           105.60        1.56           1920  \n",
       "1           207.68        1.00            384  \n",
       "2           165.78        1.02            108  \n",
       "3           221.04        1.05             72  \n",
       "4             0.00        0.00              0  "
      ]
     },
     "execution_count": 90,
     "metadata": {},
     "output_type": "execute_result"
    }
   ],
   "source": [
    "df.head( )"
   ]
  },
  {
   "cell_type": "code",
   "execution_count": 91,
   "id": "ab98accf-9341-4658-b9b7-28452ce7b891",
   "metadata": {},
   "outputs": [],
   "source": [
    "df1=df.copy() # This line of code creates a duplicate of the DataFrame `df` and assigns it to a new DataFrame named `df1`. This allows for operations and modifications on `df1` without affecting the original `df`.  "
   ]
  },
  {
   "cell_type": "code",
   "execution_count": 93,
   "id": "33613b28-c6d5-4984-9d1a-c8c4e59c12ed",
   "metadata": {},
   "outputs": [
    {
     "data": {
      "text/plain": [
       "ID                 0\n",
       "Unitprice          0\n",
       "Expire date        0\n",
       "Outbound number    0\n",
       "Total outbound     0\n",
       "Pal grossweight    0\n",
       "Pal height         0\n",
       "Units per pal      0\n",
       "dtype: int64"
      ]
     },
     "execution_count": 93,
     "metadata": {},
     "output_type": "execute_result"
    }
   ],
   "source": [
    "df.isnull().sum() # This line of code calculates and displays the number of missing (null) values in each column of the DataFrame `df`. This helps in understanding data completeness and identifying columns that might require data cleaning or imputation.  "
   ]
  },
  {
   "cell_type": "code",
   "execution_count": 94,
   "id": "d86245f5-c397-4964-a558-20e0bf08bbee",
   "metadata": {},
   "outputs": [
    {
     "data": {
      "text/plain": [
       "(2279, 8)"
      ]
     },
     "execution_count": 94,
     "metadata": {},
     "output_type": "execute_result"
    }
   ],
   "source": [
    "df.shape # This line of code returns the dimensions of the DataFrame `df`, specifically the number of rows and columns, displayed as a tuple. In this case, it indicates that the DataFrame contains **2279 rows** and **8 columns** (i.e., `(2279, 8)`).  "
   ]
  },
  {
   "cell_type": "code",
   "execution_count": 95,
   "id": "b76958a1-e141-46e1-9782-551c3ab541bb",
   "metadata": {},
   "outputs": [
    {
     "name": "stdout",
     "output_type": "stream",
     "text": [
      "<class 'pandas.core.frame.DataFrame'>\n",
      "RangeIndex: 2279 entries, 0 to 2278\n",
      "Data columns (total 8 columns):\n",
      " #   Column           Non-Null Count  Dtype  \n",
      "---  ------           --------------  -----  \n",
      " 0   ID               2279 non-null   int64  \n",
      " 1   Unitprice        2279 non-null   float64\n",
      " 2   Expire date      2279 non-null   int64  \n",
      " 3   Outbound number  2279 non-null   int64  \n",
      " 4   Total outbound   2279 non-null   float64\n",
      " 5   Pal grossweight  2279 non-null   float64\n",
      " 6   Pal height       2279 non-null   float64\n",
      " 7   Units per pal    2279 non-null   int64  \n",
      "dtypes: float64(4), int64(4)\n",
      "memory usage: 142.6 KB\n"
     ]
    }
   ],
   "source": [
    "df.info() # This line of code provides a summary of the DataFrame `df`, including the number of entries (rows), the data types of each column, the count of non-null values, and the memory usage. This is useful for getting an overview of the dataset's structure and identifying any potential data quality issues.  "
   ]
  },
  {
   "cell_type": "code",
   "execution_count": 96,
   "id": "f99b5fb9-d465-4c7d-9e0f-15964df307f3",
   "metadata": {},
   "outputs": [],
   "source": [
    "df.drop(['ID'], axis=1, inplace=True)"
   ]
  },
  {
   "cell_type": "code",
   "execution_count": 97,
   "id": "17177eb1-b874-4b87-b323-cffd5910a035",
   "metadata": {},
   "outputs": [],
   "source": [
    "from sklearn.preprocessing import StandardScaler\n",
    "# This line of code imports the `StandardScaler` class from the `sklearn.preprocessing` module, which is used for standardizing features by removing the mean and scaling to unit variance, facilitating better performance in machine learning algorithms.  "
   ]
  },
  {
   "cell_type": "code",
   "execution_count": 98,
   "id": "3319b2ab-1e0c-4ab5-b3bf-08e6ea9bd8cc",
   "metadata": {},
   "outputs": [],
   "source": [
    "sc=StandardScaler()\n",
    "# This line of code creates an instance of the `StandardScaler` class and assigns it to the variable `sc`, preparing it for use in standardizing data in subsequent steps.    "
   ]
  },
  {
   "cell_type": "code",
   "execution_count": 99,
   "id": "abbb850c-079a-4438-864a-8d70b72f1ea4",
   "metadata": {},
   "outputs": [],
   "source": [
    "df['Unitprice']=sc.fit_transform(df[['Unitprice']])\n",
    "df['Expire date']=sc.fit_transform(df[['Expire date']])\n",
    "df['Outbound number']=sc.fit_transform(df[['Outbound number']])\n",
    "df['Total outbound']=sc.fit_transform(df[['Total outbound']])\n",
    "df['Pal grossweight']=sc.fit_transform(df[['Pal grossweight']])\n",
    "df['Units per pal']=sc.fit_transform(df[['Units per pal']])\n",
    "# These lines of code standardize multiple numerical columns in the DataFrame `df` using the `StandardScaler` instance `sc`. Specifically, each specified column ('Unitprice', 'Expire date', 'Outbound number', 'Total outbound', 'Pal grossweight', and 'Units per pal') is transformed to have a mean of 0 and a standard deviation of 1, making the data more suitable for analysis or machine learning algorithms that assume standardized input. However, it's important to note that each column is standardized independently, which may not preserve relationships between them.  "
   ]
  },
  {
   "cell_type": "code",
   "execution_count": 100,
   "id": "3c646a62-fafa-4884-905f-812591cb4310",
   "metadata": {},
   "outputs": [
    {
     "data": {
      "text/html": [
       "<div>\n",
       "<style scoped>\n",
       "    .dataframe tbody tr th:only-of-type {\n",
       "        vertical-align: middle;\n",
       "    }\n",
       "\n",
       "    .dataframe tbody tr th {\n",
       "        vertical-align: top;\n",
       "    }\n",
       "\n",
       "    .dataframe thead th {\n",
       "        text-align: right;\n",
       "    }\n",
       "</style>\n",
       "<table border=\"1\" class=\"dataframe\">\n",
       "  <thead>\n",
       "    <tr style=\"text-align: right;\">\n",
       "      <th></th>\n",
       "      <th>Unitprice</th>\n",
       "      <th>Expire date</th>\n",
       "      <th>Outbound number</th>\n",
       "      <th>Total outbound</th>\n",
       "      <th>Pal grossweight</th>\n",
       "      <th>Pal height</th>\n",
       "      <th>Units per pal</th>\n",
       "    </tr>\n",
       "  </thead>\n",
       "  <tbody>\n",
       "    <tr>\n",
       "      <th>0</th>\n",
       "      <td>-0.291531</td>\n",
       "      <td>0.56734</td>\n",
       "      <td>-0.324216</td>\n",
       "      <td>0.796668</td>\n",
       "      <td>-0.530679</td>\n",
       "      <td>1.56</td>\n",
       "      <td>0.185507</td>\n",
       "    </tr>\n",
       "    <tr>\n",
       "      <th>1</th>\n",
       "      <td>-0.229506</td>\n",
       "      <td>0.56734</td>\n",
       "      <td>-0.337072</td>\n",
       "      <td>-0.341031</td>\n",
       "      <td>0.089563</td>\n",
       "      <td>1.00</td>\n",
       "      <td>-0.059194</td>\n",
       "    </tr>\n",
       "    <tr>\n",
       "      <th>2</th>\n",
       "      <td>-0.130446</td>\n",
       "      <td>0.56734</td>\n",
       "      <td>-0.319931</td>\n",
       "      <td>-0.330311</td>\n",
       "      <td>-0.165023</td>\n",
       "      <td>1.02</td>\n",
       "      <td>-0.103163</td>\n",
       "    </tr>\n",
       "    <tr>\n",
       "      <th>3</th>\n",
       "      <td>0.057497</td>\n",
       "      <td>0.56734</td>\n",
       "      <td>-0.337072</td>\n",
       "      <td>-0.341031</td>\n",
       "      <td>0.170739</td>\n",
       "      <td>1.05</td>\n",
       "      <td>-0.108899</td>\n",
       "    </tr>\n",
       "    <tr>\n",
       "      <th>4</th>\n",
       "      <td>-0.295546</td>\n",
       "      <td>0.56734</td>\n",
       "      <td>-0.337072</td>\n",
       "      <td>-0.341031</td>\n",
       "      <td>-1.172310</td>\n",
       "      <td>0.00</td>\n",
       "      <td>-0.120369</td>\n",
       "    </tr>\n",
       "  </tbody>\n",
       "</table>\n",
       "</div>"
      ],
      "text/plain": [
       "   Unitprice  Expire date  Outbound number  Total outbound  Pal grossweight  \\\n",
       "0  -0.291531      0.56734        -0.324216        0.796668        -0.530679   \n",
       "1  -0.229506      0.56734        -0.337072       -0.341031         0.089563   \n",
       "2  -0.130446      0.56734        -0.319931       -0.330311        -0.165023   \n",
       "3   0.057497      0.56734        -0.337072       -0.341031         0.170739   \n",
       "4  -0.295546      0.56734        -0.337072       -0.341031        -1.172310   \n",
       "\n",
       "   Pal height  Units per pal  \n",
       "0        1.56       0.185507  \n",
       "1        1.00      -0.059194  \n",
       "2        1.02      -0.103163  \n",
       "3        1.05      -0.108899  \n",
       "4        0.00      -0.120369  "
      ]
     },
     "execution_count": 100,
     "metadata": {},
     "output_type": "execute_result"
    }
   ],
   "source": [
    "df.head()\n",
    "# This line of code displays the first five rows of the DataFrame `df` to provide a quick overview of the dataset's structure and contents, including its columns and initial data points."
   ]
  },
  {
   "cell_type": "code",
   "execution_count": 101,
   "id": "13ae9a03-5a68-4251-9455-0af3e0ac5d64",
   "metadata": {},
   "outputs": [
    {
     "name": "stderr",
     "output_type": "stream",
     "text": [
      "C:\\Users\\snigd\\anaconda3\\Lib\\site-packages\\sklearn\\cluster\\_kmeans.py:870: FutureWarning: The default value of `n_init` will change from 10 to 'auto' in 1.4. Set the value of `n_init` explicitly to suppress the warning\n",
      "  warnings.warn(\n",
      "C:\\Users\\snigd\\anaconda3\\Lib\\site-packages\\sklearn\\cluster\\_kmeans.py:870: FutureWarning: The default value of `n_init` will change from 10 to 'auto' in 1.4. Set the value of `n_init` explicitly to suppress the warning\n",
      "  warnings.warn(\n",
      "C:\\Users\\snigd\\anaconda3\\Lib\\site-packages\\sklearn\\cluster\\_kmeans.py:870: FutureWarning: The default value of `n_init` will change from 10 to 'auto' in 1.4. Set the value of `n_init` explicitly to suppress the warning\n",
      "  warnings.warn(\n",
      "C:\\Users\\snigd\\anaconda3\\Lib\\site-packages\\sklearn\\cluster\\_kmeans.py:870: FutureWarning: The default value of `n_init` will change from 10 to 'auto' in 1.4. Set the value of `n_init` explicitly to suppress the warning\n",
      "  warnings.warn(\n",
      "C:\\Users\\snigd\\anaconda3\\Lib\\site-packages\\sklearn\\cluster\\_kmeans.py:870: FutureWarning: The default value of `n_init` will change from 10 to 'auto' in 1.4. Set the value of `n_init` explicitly to suppress the warning\n",
      "  warnings.warn(\n",
      "C:\\Users\\snigd\\anaconda3\\Lib\\site-packages\\sklearn\\cluster\\_kmeans.py:870: FutureWarning: The default value of `n_init` will change from 10 to 'auto' in 1.4. Set the value of `n_init` explicitly to suppress the warning\n",
      "  warnings.warn(\n",
      "C:\\Users\\snigd\\anaconda3\\Lib\\site-packages\\sklearn\\cluster\\_kmeans.py:870: FutureWarning: The default value of `n_init` will change from 10 to 'auto' in 1.4. Set the value of `n_init` explicitly to suppress the warning\n",
      "  warnings.warn(\n",
      "C:\\Users\\snigd\\anaconda3\\Lib\\site-packages\\sklearn\\cluster\\_kmeans.py:870: FutureWarning: The default value of `n_init` will change from 10 to 'auto' in 1.4. Set the value of `n_init` explicitly to suppress the warning\n",
      "  warnings.warn(\n",
      "C:\\Users\\snigd\\anaconda3\\Lib\\site-packages\\sklearn\\cluster\\_kmeans.py:870: FutureWarning: The default value of `n_init` will change from 10 to 'auto' in 1.4. Set the value of `n_init` explicitly to suppress the warning\n",
      "  warnings.warn(\n",
      "C:\\Users\\snigd\\anaconda3\\Lib\\site-packages\\sklearn\\cluster\\_kmeans.py:870: FutureWarning: The default value of `n_init` will change from 10 to 'auto' in 1.4. Set the value of `n_init` explicitly to suppress the warning\n",
      "  warnings.warn(\n",
      "C:\\Users\\snigd\\anaconda3\\Lib\\site-packages\\sklearn\\cluster\\_kmeans.py:870: FutureWarning: The default value of `n_init` will change from 10 to 'auto' in 1.4. Set the value of `n_init` explicitly to suppress the warning\n",
      "  warnings.warn(\n",
      "C:\\Users\\snigd\\anaconda3\\Lib\\site-packages\\sklearn\\cluster\\_kmeans.py:870: FutureWarning: The default value of `n_init` will change from 10 to 'auto' in 1.4. Set the value of `n_init` explicitly to suppress the warning\n",
      "  warnings.warn(\n",
      "C:\\Users\\snigd\\anaconda3\\Lib\\site-packages\\sklearn\\cluster\\_kmeans.py:870: FutureWarning: The default value of `n_init` will change from 10 to 'auto' in 1.4. Set the value of `n_init` explicitly to suppress the warning\n",
      "  warnings.warn(\n",
      "C:\\Users\\snigd\\anaconda3\\Lib\\site-packages\\sklearn\\cluster\\_kmeans.py:870: FutureWarning: The default value of `n_init` will change from 10 to 'auto' in 1.4. Set the value of `n_init` explicitly to suppress the warning\n",
      "  warnings.warn(\n"
     ]
    },
    {
     "data": {
      "image/png": "[encoded data removed]",
      "text/plain": [
       "<Figure size 1000x1000 with 1 Axes>"
      ]
     },
     "metadata": {},
     "output_type": "display_data"
    }
   ],
   "source": [
    "import matplotlib.pyplot as plt\n",
    "from sklearn.cluster import KMeans\n",
    "wcss = [] # within cluster sum of squares\n",
    "\n",
    "for k in range(1, 15):\n",
    "    kmeansForLoop = KMeans(n_clusters = k)\n",
    "    kmeansForLoop.fit(df)\n",
    "    wcss.append(kmeansForLoop.inertia_)\n",
    "\n",
    "plt.figure(figsize = (10, 10))\n",
    "plt.plot(range(1, 15), wcss)\n",
    "plt.xlabel(\"K value\")\n",
    "plt.ylabel(\"WCSS\")\n",
    "plt.show()\n",
    "# This code imports necessary libraries to perform K-means clustering and visualize the results. It calculates the Within-Cluster Sum of Squares (WCSS) for cluster counts ranging from 1 to 14, storing these values in a list. It then plots WCSS against the number of clusters (k) to help determine the optimal number of clusters, typically by identifying the \"elbow\" point in the graph where adding more clusters yields diminishing returns in reducing WCSS."
   ]
  },
  {
   "cell_type": "code",
   "execution_count": 71,
   "id": "5312fb62-2c69-4dcb-a707-c74a79b18355",
   "metadata": {},
   "outputs": [
    {
     "name": "stderr",
     "output_type": "stream",
     "text": [
      "C:\\Users\\snigd\\anaconda3\\Lib\\site-packages\\sklearn\\cluster\\_kmeans.py:870: FutureWarning: The default value of `n_init` will change from 10 to 'auto' in 1.4. Set the value of `n_init` explicitly to suppress the warning\n",
      "  warnings.warn(\n",
      "C:\\Users\\snigd\\anaconda3\\Lib\\site-packages\\sklearn\\cluster\\_kmeans.py:870: FutureWarning: The default value of `n_init` will change from 10 to 'auto' in 1.4. Set the value of `n_init` explicitly to suppress the warning\n",
      "  warnings.warn(\n",
      "C:\\Users\\snigd\\anaconda3\\Lib\\site-packages\\sklearn\\cluster\\_kmeans.py:870: FutureWarning: The default value of `n_init` will change from 10 to 'auto' in 1.4. Set the value of `n_init` explicitly to suppress the warning\n",
      "  warnings.warn(\n",
      "C:\\Users\\snigd\\anaconda3\\Lib\\site-packages\\sklearn\\cluster\\_kmeans.py:870: FutureWarning: The default value of `n_init` will change from 10 to 'auto' in 1.4. Set the value of `n_init` explicitly to suppress the warning\n",
      "  warnings.warn(\n",
      "C:\\Users\\snigd\\anaconda3\\Lib\\site-packages\\sklearn\\cluster\\_kmeans.py:870: FutureWarning: The default value of `n_init` will change from 10 to 'auto' in 1.4. Set the value of `n_init` explicitly to suppress the warning\n",
      "  warnings.warn(\n",
      "C:\\Users\\snigd\\anaconda3\\Lib\\site-packages\\sklearn\\cluster\\_kmeans.py:870: FutureWarning: The default value of `n_init` will change from 10 to 'auto' in 1.4. Set the value of `n_init` explicitly to suppress the warning\n",
      "  warnings.warn(\n",
      "C:\\Users\\snigd\\anaconda3\\Lib\\site-packages\\sklearn\\cluster\\_kmeans.py:870: FutureWarning: The default value of `n_init` will change from 10 to 'auto' in 1.4. Set the value of `n_init` explicitly to suppress the warning\n",
      "  warnings.warn(\n",
      "C:\\Users\\snigd\\anaconda3\\Lib\\site-packages\\sklearn\\cluster\\_kmeans.py:870: FutureWarning: The default value of `n_init` will change from 10 to 'auto' in 1.4. Set the value of `n_init` explicitly to suppress the warning\n",
      "  warnings.warn(\n",
      "C:\\Users\\snigd\\anaconda3\\Lib\\site-packages\\sklearn\\cluster\\_kmeans.py:870: FutureWarning: The default value of `n_init` will change from 10 to 'auto' in 1.4. Set the value of `n_init` explicitly to suppress the warning\n",
      "  warnings.warn(\n",
      "C:\\Users\\snigd\\anaconda3\\Lib\\site-packages\\sklearn\\cluster\\_kmeans.py:870: FutureWarning: The default value of `n_init` will change from 10 to 'auto' in 1.4. Set the value of `n_init` explicitly to suppress the warning\n",
      "  warnings.warn(\n",
      "C:\\Users\\snigd\\anaconda3\\Lib\\site-packages\\sklearn\\cluster\\_kmeans.py:870: FutureWarning: The default value of `n_init` will change from 10 to 'auto' in 1.4. Set the value of `n_init` explicitly to suppress the warning\n",
      "  warnings.warn(\n",
      "C:\\Users\\snigd\\anaconda3\\Lib\\site-packages\\sklearn\\cluster\\_kmeans.py:870: FutureWarning: The default value of `n_init` will change from 10 to 'auto' in 1.4. Set the value of `n_init` explicitly to suppress the warning\n",
      "  warnings.warn(\n",
      "C:\\Users\\snigd\\anaconda3\\Lib\\site-packages\\sklearn\\cluster\\_kmeans.py:870: FutureWarning: The default value of `n_init` will change from 10 to 'auto' in 1.4. Set the value of `n_init` explicitly to suppress the warning\n",
      "  warnings.warn(\n"
     ]
    },
    {
     "data": {
      "image/png": "[encoded data removed]",
      "text/plain": [
       "<Figure size 640x480 with 1 Axes>"
      ]
     },
     "metadata": {},
     "output_type": "display_data"
    }
   ],
   "source": [
    "# Imports Libraries: Imports the KMeans class for clustering, silhouette_score for evaluating cluster quality, and matplotlib.pyplot for visualization.\n",
    "from sklearn.cluster import KMeans\n",
    "from sklearn.metrics import silhouette_score\n",
    "import matplotlib.pyplot as plt\n",
    "\n",
    "# Calculates Silhouette Scores: It initializes an empty list silhouette_scores to store the silhouette score for different numbers of clusters (from 2 to 14).\n",
    "silhouette_scores = [] \n",
    "\n",
    "for n_cluster in range(2,15):\n",
    "    silhouette_scores.append( \n",
    "        silhouette_score(df, KMeans(n_clusters = n_cluster).fit_predict(df))) \n",
    "    \n",
    "# Plotting a bar graph to compare the results \n",
    "k = [2, 3, 4, 5, 6,7,8,9,10,11,12,13,14] \n",
    "plt.bar(k, silhouette_scores) \n",
    "plt.xlabel('Number of clusters', fontsize = 10) \n",
    "plt.ylabel('Silhouette Score', fontsize = 10) \n",
    "plt.grid()\n",
    "plt.show()"
   ]
  },
  {
   "cell_type": "code",
   "execution_count": 102,
   "id": "bd7db3d6-204b-4bd2-8b05-9930755daa47",
   "metadata": {},
   "outputs": [
    {
     "name": "stderr",
     "output_type": "stream",
     "text": [
      "C:\\Users\\snigd\\anaconda3\\Lib\\site-packages\\sklearn\\cluster\\_kmeans.py:870: FutureWarning: The default value of `n_init` will change from 10 to 'auto' in 1.4. Set the value of `n_init` explicitly to suppress the warning\n",
      "  warnings.warn(\n"
     ]
    }
   ],
   "source": [
    "kmeans = KMeans(n_clusters = 2) # This line creates a KMeans clustering model object, specifying that the desired number of clusters is 2.\n",
    "clusters = kmeans.fit_predict(df) # his line fits the KMeans model to the data in the DataFrame df and then assigns each data point to one of the two clusters."
   ]
  },
  {
   "cell_type": "code",
   "execution_count": 104,
   "id": "7132f6b6-f4b2-4a0a-bcef-7e6040d2c909",
   "metadata": {},
   "outputs": [
    {
     "data": {
      "text/plain": [
       "array([1, 1, 1, ..., 1, 1, 1])"
      ]
     },
     "execution_count": 104,
     "metadata": {},
     "output_type": "execute_result"
    }
   ],
   "source": [
    "#Labels of each point\n",
    "kmeans.labels_"
   ]
  },
  {
   "cell_type": "code",
   "execution_count": 105,
   "id": "d4e3aeae-67ea-4626-9785-d683d38cc65e",
   "metadata": {},
   "outputs": [
    {
     "data": {
      "text/plain": [
       "11346.36369813577"
      ]
     },
     "execution_count": 105,
     "metadata": {},
     "output_type": "execute_result"
    }
   ],
   "source": [
    "kmeans.inertia_ # The kmeans.inertia_ would return the WCSS value for the 2-cluster KMeans model fitted to the DataFrame df."
   ]
  },
  {
   "cell_type": "code",
   "execution_count": 107,
   "id": "2d678f1c-3d71-47a2-a6ac-40d5c937ecd7",
   "metadata": {},
   "outputs": [
    {
     "data": {
      "text/plain": [
       "array([[-0.11867859,  0.70632048,  3.58339102,  3.38066997,  0.25981811,\n",
       "         0.98478261, -0.07207721],\n",
       "       [ 0.00630686, -0.03753552, -0.19042974, -0.17965668, -0.01380734,\n",
       "         0.65621811,  0.00383035]])"
      ]
     },
     "execution_count": 107,
     "metadata": {},
     "output_type": "execute_result"
    }
   ],
   "source": [
    "kmeans.cluster_centers_ # The kmeans.cluster_centers_ attribute returns the coordinates of the cluster centroids learned by the KMeans clustering algorithm."
   ]
  },
  {
   "cell_type": "code",
   "execution_count": 108,
   "id": "09287f05-3e23-4132-a466-a75dc7662829",
   "metadata": {},
   "outputs": [
    {
     "data": {
      "text/plain": [
       "7"
      ]
     },
     "execution_count": 108,
     "metadata": {},
     "output_type": "execute_result"
    }
   ],
   "source": [
    "kmeans.n_features_in_ # The kmeans.n_features_in_ attribute returns the number of features (columns) in the input data that the KMeans model was trained on"
   ]
  },
  {
   "cell_type": "code",
   "execution_count": 109,
   "id": "3531e0b3-74fc-49ab-b682-8071c1f48b84",
   "metadata": {},
   "outputs": [
    {
     "data": {
      "text/plain": [
       "array([1, 1, 1, ..., 1, 1, 1])"
      ]
     },
     "execution_count": 109,
     "metadata": {},
     "output_type": "execute_result"
    }
   ],
   "source": [
    "clusters # The clusters variable now holds the cluster labels for each data point in df. The values in clusters will be either 0 or 1, representing the two clusters."
   ]
  },
  {
   "cell_type": "code",
   "execution_count": 110,
   "id": "2432ed82-042f-4756-8549-30f9ba7f953f",
   "metadata": {},
   "outputs": [],
   "source": [
    "df[\"Cluster\"] = clusters # The line of code df[\"Cluster\"] = clusters adds a new column named \"Cluster\" to the DataFrame df, and assigns the cluster labels from the clusters variable to this new column."
   ]
  },
  {
   "cell_type": "code",
   "execution_count": 111,
   "id": "3f2d6916-04c1-42bc-bc90-8afe69494854",
   "metadata": {},
   "outputs": [
    {
     "data": {
      "text/plain": [
       "Index(['Unitprice', 'Expire date', 'Outbound number', 'Total outbound',\n",
       "       'Pal grossweight', 'Pal height', 'Units per pal', 'Cluster'],\n",
       "      dtype='object')"
      ]
     },
     "execution_count": 111,
     "metadata": {},
     "output_type": "execute_result"
    }
   ],
   "source": [
    "df.columns # The df.columns attribute returns a pandas Series object that contains the column names of the DataFrame df."
   ]
  },
  {
   "cell_type": "code",
   "execution_count": 80,
   "id": "c42d1973-1b37-4e04-9e76-14afc234bf46",
   "metadata": {},
   "outputs": [
    {
     "data": {
      "text/html": [
       "<div>\n",
       "<style scoped>\n",
       "    .dataframe tbody tr th:only-of-type {\n",
       "        vertical-align: middle;\n",
       "    }\n",
       "\n",
       "    .dataframe tbody tr th {\n",
       "        vertical-align: top;\n",
       "    }\n",
       "\n",
       "    .dataframe thead th {\n",
       "        text-align: right;\n",
       "    }\n",
       "</style>\n",
       "<table border=\"1\" class=\"dataframe\">\n",
       "  <thead>\n",
       "    <tr style=\"text-align: right;\">\n",
       "      <th></th>\n",
       "      <th>Unitprice</th>\n",
       "      <th>Expire date</th>\n",
       "      <th>Outbound number</th>\n",
       "      <th>Total outbound</th>\n",
       "      <th>Pal grossweight</th>\n",
       "      <th>Pal height</th>\n",
       "      <th>Units per pal</th>\n",
       "      <th>Cluster</th>\n",
       "    </tr>\n",
       "  </thead>\n",
       "  <tbody>\n",
       "    <tr>\n",
       "      <th>0</th>\n",
       "      <td>-0.291531</td>\n",
       "      <td>0.56734</td>\n",
       "      <td>-0.324216</td>\n",
       "      <td>0.796668</td>\n",
       "      <td>-0.530679</td>\n",
       "      <td>1.56</td>\n",
       "      <td>0.185507</td>\n",
       "      <td>1</td>\n",
       "    </tr>\n",
       "    <tr>\n",
       "      <th>1</th>\n",
       "      <td>-0.229506</td>\n",
       "      <td>0.56734</td>\n",
       "      <td>-0.337072</td>\n",
       "      <td>-0.341031</td>\n",
       "      <td>0.089563</td>\n",
       "      <td>1.00</td>\n",
       "      <td>-0.059194</td>\n",
       "      <td>1</td>\n",
       "    </tr>\n",
       "    <tr>\n",
       "      <th>2</th>\n",
       "      <td>-0.130446</td>\n",
       "      <td>0.56734</td>\n",
       "      <td>-0.319931</td>\n",
       "      <td>-0.330311</td>\n",
       "      <td>-0.165023</td>\n",
       "      <td>1.02</td>\n",
       "      <td>-0.103163</td>\n",
       "      <td>1</td>\n",
       "    </tr>\n",
       "    <tr>\n",
       "      <th>3</th>\n",
       "      <td>0.057497</td>\n",
       "      <td>0.56734</td>\n",
       "      <td>-0.337072</td>\n",
       "      <td>-0.341031</td>\n",
       "      <td>0.170739</td>\n",
       "      <td>1.05</td>\n",
       "      <td>-0.108899</td>\n",
       "      <td>1</td>\n",
       "    </tr>\n",
       "    <tr>\n",
       "      <th>4</th>\n",
       "      <td>-0.295546</td>\n",
       "      <td>0.56734</td>\n",
       "      <td>-0.337072</td>\n",
       "      <td>-0.341031</td>\n",
       "      <td>-1.172310</td>\n",
       "      <td>0.00</td>\n",
       "      <td>-0.120369</td>\n",
       "      <td>1</td>\n",
       "    </tr>\n",
       "  </tbody>\n",
       "</table>\n",
       "</div>"
      ],
      "text/plain": [
       "   Unitprice  Expire date  Outbound number  Total outbound  Pal grossweight  \\\n",
       "0  -0.291531      0.56734        -0.324216        0.796668        -0.530679   \n",
       "1  -0.229506      0.56734        -0.337072       -0.341031         0.089563   \n",
       "2  -0.130446      0.56734        -0.319931       -0.330311        -0.165023   \n",
       "3   0.057497      0.56734        -0.337072       -0.341031         0.170739   \n",
       "4  -0.295546      0.56734        -0.337072       -0.341031        -1.172310   \n",
       "\n",
       "   Pal height  Units per pal  Cluster  \n",
       "0        1.56       0.185507        1  \n",
       "1        1.00      -0.059194        1  \n",
       "2        1.02      -0.103163        1  \n",
       "3        1.05      -0.108899        1  \n",
       "4        0.00      -0.120369        1  "
      ]
     },
     "execution_count": 80,
     "metadata": {},
     "output_type": "execute_result"
    }
   ],
   "source": [
    "df.head() # This line of code displays the first five rows of the DataFrame `df` to provide a quick overview of the dataset's structure and contents, including its columns and initial data points."
   ]
  },
  {
   "cell_type": "code",
   "execution_count": 112,
   "id": "132fab8e-0b91-4187-b53c-637f4e83d5c1",
   "metadata": {},
   "outputs": [],
   "source": [
    "data = [[150, 500, 10500, 10000, 600, 2, 50000],[4.26,410,231.9,731.7,192.9,0.67,755]] # This code creates a new pandas DataFrame called new_data\n",
    "new_data = pd.DataFrame(data, columns=['Unitprice' , 'Expire date' , 'Outbound number', 'Total outbound', 'Pal grossweight', 'Pal height', 'Units per pal']) \n",
    "# This line creates a new pandas DataFrame called new_data using the pd.DataFrame() function.\n",
    "#The first argument data is the list of lists containing the data.\n",
    "#The columns argument specifies the column names for the DataFrame. "
   ]
  },
  {
   "cell_type": "code",
   "execution_count": 113,
   "id": "5b43dd02-8c92-467a-9cdd-70fa0abd430b",
   "metadata": {},
   "outputs": [
    {
     "data": {
      "text/html": [
       "<div>\n",
       "<style scoped>\n",
       "    .dataframe tbody tr th:only-of-type {\n",
       "        vertical-align: middle;\n",
       "    }\n",
       "\n",
       "    .dataframe tbody tr th {\n",
       "        vertical-align: top;\n",
       "    }\n",
       "\n",
       "    .dataframe thead th {\n",
       "        text-align: right;\n",
       "    }\n",
       "</style>\n",
       "<table border=\"1\" class=\"dataframe\">\n",
       "  <thead>\n",
       "    <tr style=\"text-align: right;\">\n",
       "      <th></th>\n",
       "      <th>Unitprice</th>\n",
       "      <th>Expire date</th>\n",
       "      <th>Outbound number</th>\n",
       "      <th>Total outbound</th>\n",
       "      <th>Pal grossweight</th>\n",
       "      <th>Pal height</th>\n",
       "      <th>Units per pal</th>\n",
       "    </tr>\n",
       "  </thead>\n",
       "  <tbody>\n",
       "    <tr>\n",
       "      <th>0</th>\n",
       "      <td>150.00</td>\n",
       "      <td>500</td>\n",
       "      <td>10500.0</td>\n",
       "      <td>10000.0</td>\n",
       "      <td>600.0</td>\n",
       "      <td>2.00</td>\n",
       "      <td>50000</td>\n",
       "    </tr>\n",
       "    <tr>\n",
       "      <th>1</th>\n",
       "      <td>4.26</td>\n",
       "      <td>410</td>\n",
       "      <td>231.9</td>\n",
       "      <td>731.7</td>\n",
       "      <td>192.9</td>\n",
       "      <td>0.67</td>\n",
       "      <td>755</td>\n",
       "    </tr>\n",
       "  </tbody>\n",
       "</table>\n",
       "</div>"
      ],
      "text/plain": [
       "   Unitprice  Expire date  Outbound number  Total outbound  Pal grossweight  \\\n",
       "0     150.00          500          10500.0         10000.0            600.0   \n",
       "1       4.26          410            231.9           731.7            192.9   \n",
       "\n",
       "   Pal height  Units per pal  \n",
       "0        2.00          50000  \n",
       "1        0.67            755  "
      ]
     },
     "execution_count": 113,
     "metadata": {},
     "output_type": "execute_result"
    }
   ],
   "source": [
    "new_data.head() # This line of code displays the first five rows of the DataFrame `df` to provide a quick overview of the dataset's structure and contents, including its columns and initial data points."
   ]
  },
  {
   "cell_type": "code",
   "execution_count": 114,
   "id": "91d136ab-a960-4f84-a79b-27dfa9b2dd2b",
   "metadata": {},
   "outputs": [],
   "source": [
    "# These code is standardizing the numerical columns in the new_data DataFrame using the StandardScaler instance sc.\n",
    "new_data['Unitprice']=sc.fit_transform(new_data[['Unitprice']])\n",
    "new_data['Expire date']=sc.fit_transform(new_data[['Expire date']])\n",
    "new_data['Outbound number']=sc.fit_transform(new_data[['Outbound number']])\n",
    "new_data['Total outbound']=sc.fit_transform(new_data[['Total outbound']])\n",
    "new_data['Pal grossweight']=sc.fit_transform(new_data[['Pal grossweight']])\n",
    "new_data['Units per pal']=sc.fit_transform(new_data[['Units per pal']])"
   ]
  },
  {
   "cell_type": "code",
   "execution_count": 115,
   "id": "b501feb0-b179-4bc0-93f3-2f4d34cecd18",
   "metadata": {},
   "outputs": [
    {
     "data": {
      "text/html": [
       "<div>\n",
       "<style scoped>\n",
       "    .dataframe tbody tr th:only-of-type {\n",
       "        vertical-align: middle;\n",
       "    }\n",
       "\n",
       "    .dataframe tbody tr th {\n",
       "        vertical-align: top;\n",
       "    }\n",
       "\n",
       "    .dataframe thead th {\n",
       "        text-align: right;\n",
       "    }\n",
       "</style>\n",
       "<table border=\"1\" class=\"dataframe\">\n",
       "  <thead>\n",
       "    <tr style=\"text-align: right;\">\n",
       "      <th></th>\n",
       "      <th>Unitprice</th>\n",
       "      <th>Expire date</th>\n",
       "      <th>Outbound number</th>\n",
       "      <th>Total outbound</th>\n",
       "      <th>Pal grossweight</th>\n",
       "      <th>Pal height</th>\n",
       "      <th>Units per pal</th>\n",
       "    </tr>\n",
       "  </thead>\n",
       "  <tbody>\n",
       "    <tr>\n",
       "      <th>0</th>\n",
       "      <td>1.0</td>\n",
       "      <td>1.0</td>\n",
       "      <td>1.0</td>\n",
       "      <td>1.0</td>\n",
       "      <td>1.0</td>\n",
       "      <td>2.00</td>\n",
       "      <td>1.0</td>\n",
       "    </tr>\n",
       "    <tr>\n",
       "      <th>1</th>\n",
       "      <td>-1.0</td>\n",
       "      <td>-1.0</td>\n",
       "      <td>-1.0</td>\n",
       "      <td>-1.0</td>\n",
       "      <td>-1.0</td>\n",
       "      <td>0.67</td>\n",
       "      <td>-1.0</td>\n",
       "    </tr>\n",
       "  </tbody>\n",
       "</table>\n",
       "</div>"
      ],
      "text/plain": [
       "   Unitprice  Expire date  Outbound number  Total outbound  Pal grossweight  \\\n",
       "0        1.0          1.0              1.0             1.0              1.0   \n",
       "1       -1.0         -1.0             -1.0            -1.0             -1.0   \n",
       "\n",
       "   Pal height  Units per pal  \n",
       "0        2.00            1.0  \n",
       "1        0.67           -1.0  "
      ]
     },
     "execution_count": 115,
     "metadata": {},
     "output_type": "execute_result"
    }
   ],
   "source": [
    "new_data.head() # This line of code displays the first two rows of the DataFrame `df` to provide a quick overview of the dataset's structure and contents, including its columns and initial data points."
   ]
  },
  {
   "cell_type": "code",
   "execution_count": 116,
   "id": "c0a586d2-f06c-4df4-9129-57d22f71e429",
   "metadata": {
    "scrolled": true
   },
   "outputs": [
    {
     "data": {
      "text/html": [
       "<div>\n",
       "<style scoped>\n",
       "    .dataframe tbody tr th:only-of-type {\n",
       "        vertical-align: middle;\n",
       "    }\n",
       "\n",
       "    .dataframe tbody tr th {\n",
       "        vertical-align: top;\n",
       "    }\n",
       "\n",
       "    .dataframe thead th {\n",
       "        text-align: right;\n",
       "    }\n",
       "</style>\n",
       "<table border=\"1\" class=\"dataframe\">\n",
       "  <thead>\n",
       "    <tr style=\"text-align: right;\">\n",
       "      <th></th>\n",
       "      <th>Unitprice</th>\n",
       "      <th>Expire date</th>\n",
       "      <th>Outbound number</th>\n",
       "      <th>Total outbound</th>\n",
       "      <th>Pal grossweight</th>\n",
       "      <th>Pal height</th>\n",
       "      <th>Units per pal</th>\n",
       "      <th>Cluster</th>\n",
       "    </tr>\n",
       "  </thead>\n",
       "  <tbody>\n",
       "    <tr>\n",
       "      <th>0</th>\n",
       "      <td>-0.291531</td>\n",
       "      <td>0.56734</td>\n",
       "      <td>-0.324216</td>\n",
       "      <td>0.796668</td>\n",
       "      <td>-0.530679</td>\n",
       "      <td>1.56</td>\n",
       "      <td>0.185507</td>\n",
       "      <td>1</td>\n",
       "    </tr>\n",
       "    <tr>\n",
       "      <th>1</th>\n",
       "      <td>-0.229506</td>\n",
       "      <td>0.56734</td>\n",
       "      <td>-0.337072</td>\n",
       "      <td>-0.341031</td>\n",
       "      <td>0.089563</td>\n",
       "      <td>1.00</td>\n",
       "      <td>-0.059194</td>\n",
       "      <td>1</td>\n",
       "    </tr>\n",
       "    <tr>\n",
       "      <th>2</th>\n",
       "      <td>-0.130446</td>\n",
       "      <td>0.56734</td>\n",
       "      <td>-0.319931</td>\n",
       "      <td>-0.330311</td>\n",
       "      <td>-0.165023</td>\n",
       "      <td>1.02</td>\n",
       "      <td>-0.103163</td>\n",
       "      <td>1</td>\n",
       "    </tr>\n",
       "    <tr>\n",
       "      <th>3</th>\n",
       "      <td>0.057497</td>\n",
       "      <td>0.56734</td>\n",
       "      <td>-0.337072</td>\n",
       "      <td>-0.341031</td>\n",
       "      <td>0.170739</td>\n",
       "      <td>1.05</td>\n",
       "      <td>-0.108899</td>\n",
       "      <td>1</td>\n",
       "    </tr>\n",
       "    <tr>\n",
       "      <th>4</th>\n",
       "      <td>-0.295546</td>\n",
       "      <td>0.56734</td>\n",
       "      <td>-0.337072</td>\n",
       "      <td>-0.341031</td>\n",
       "      <td>-1.172310</td>\n",
       "      <td>0.00</td>\n",
       "      <td>-0.120369</td>\n",
       "      <td>1</td>\n",
       "    </tr>\n",
       "  </tbody>\n",
       "</table>\n",
       "</div>"
      ],
      "text/plain": [
       "   Unitprice  Expire date  Outbound number  Total outbound  Pal grossweight  \\\n",
       "0  -0.291531      0.56734        -0.324216        0.796668        -0.530679   \n",
       "1  -0.229506      0.56734        -0.337072       -0.341031         0.089563   \n",
       "2  -0.130446      0.56734        -0.319931       -0.330311        -0.165023   \n",
       "3   0.057497      0.56734        -0.337072       -0.341031         0.170739   \n",
       "4  -0.295546      0.56734        -0.337072       -0.341031        -1.172310   \n",
       "\n",
       "   Pal height  Units per pal  Cluster  \n",
       "0        1.56       0.185507        1  \n",
       "1        1.00      -0.059194        1  \n",
       "2        1.02      -0.103163        1  \n",
       "3        1.05      -0.108899        1  \n",
       "4        0.00      -0.120369        1  "
      ]
     },
     "execution_count": 116,
     "metadata": {},
     "output_type": "execute_result"
    }
   ],
   "source": [
    "df.head() # This line of code displays the first five rows of the DataFrame `df` to provide a quick overview of the dataset's structure and contents, including its columns and initial data points."
   ]
  },
  {
   "cell_type": "code",
   "execution_count": 117,
   "id": "58cae819-0a46-4c9f-8637-a8e5b548f6e2",
   "metadata": {},
   "outputs": [
    {
     "data": {
      "text/plain": [
       "array([1, 1])"
      ]
     },
     "execution_count": 117,
     "metadata": {},
     "output_type": "execute_result"
    }
   ],
   "source": [
    "kmeans.predict(new_data)"
   ]
  },
  {
   "cell_type": "code",
   "execution_count": 86,
   "id": "e177f77b-9dc1-421b-ab49-d919ce29050e",
   "metadata": {},
   "outputs": [],
   "source": [
    "df.to_excel(r\"E:\\SNIGDHA\\IMI-K Course Outline & Study Material\\Term-IV\\Data Analytics & Machine Learning\\EndTerm Assignment\\stock+keeping+units\\test1_kmeans.xlsx\")\n",
    "#to export data into excel file"
   ]
  },
  {
   "cell_type": "code",
   "execution_count": 130,
   "id": "342a6f3a-4d3c-4c2f-9062-ebec5f39a54f",
   "metadata": {},
   "outputs": [
    {
     "name": "stderr",
     "output_type": "stream",
     "text": [
      "C:\\Users\\snigd\\anaconda3\\Lib\\site-packages\\sklearn\\cluster\\_kmeans.py:870: FutureWarning: The default value of `n_init` will change from 10 to 'auto' in 1.4. Set the value of `n_init` explicitly to suppress the warning\n",
      "  warnings.warn(\n"
     ]
    },
    {
     "data": {
      "text/plain": [
       "0.6034792211826638"
      ]
     },
     "execution_count": 130,
     "metadata": {},
     "output_type": "execute_result"
    }
   ],
   "source": [
    "silhouette_score(df, KMeans(n_clusters=2).fit_predict(df))"
   ]
  },
  {
   "cell_type": "markdown",
   "id": "33f26e10-f479-45e4-8ae6-3253f94749bc",
   "metadata": {},
   "source": [
    "Interpretation of KMeans:\n",
    "\n",
    "For the kmeans clustering we can see that the new values that we have taken for prediction are coming under Cluster \"1\".\n",
    "\n",
    "The silhouette score is a metric that measures the quality of a clustering solution. If it ranges from 0 to 0.5 then it is satisfactory and if more than 0.5 that means the model is very good, with indicates better clustering.\n",
    "The value 0.6034792211826638 obtained from the code which is more than 0.5 , means that the clustering is done with very high score indicating good clustering model."
   ]
  },
  {
   "cell_type": "markdown",
   "id": "f02f6861-fb48-4730-bb3d-7a7b8e8be947",
   "metadata": {},
   "source": [
    "Dendogram :"
   ]
  },
  {
   "cell_type": "code",
   "execution_count": 38,
   "id": "2b9b473e-c477-4dfa-9d64-ec481310e55c",
   "metadata": {},
   "outputs": [
    {
     "data": {
      "image/png": "[encoded data removed]",
      "text/plain": [
       "<Figure size 1000x700 with 1 Axes>"
      ]
     },
     "metadata": {},
     "output_type": "display_data"
    }
   ],
   "source": [
    "import pandas as pd\n",
    "import matplotlib.pyplot as plt\n",
    "from scipy.cluster.hierarchy import linkage, dendrogram\n",
    "\n",
    "# Load original DataFrame (df) here if not already done\n",
    "df = pd.read_excel(r\"E:\\SNIGDHA\\IMI-K Course Outline & Study Material\\Term-IV\\Data Analytics & Machine Learning\\EndTerm Assignment\\stock+keeping+units\\sku_data.xlsx\")\n",
    "\n",
    "# Prepare df1 by selecting only the relevant numeric columns for clustering\n",
    "# Replace the column names as needed based on your DataFrame\n",
    "df1 = df[['Unitprice', 'Expire date' , 'Outbound number', 'Total outbound' , 'Pal grossweight', 'Pal height', 'Units per pal']]\n",
    "\n",
    "# Performing hierarchical clustering using Ward's method\n",
    "merg = linkage(df, method='ward')\n",
    "\n",
    "# Creating the dendrogram\n",
    "plt.figure(figsize=(10, 7))  # Set the figure size for better visualization\n",
    "dendrogram(merg, leaf_rotation=90, leaf_font_size=10)\n",
    "\n",
    "# Adding labels and title\n",
    "plt.xlabel(\"Data Points\")  # X-axis label\n",
    "plt.ylabel(\"Euclidean Distance\")  # Y-axis label\n",
    "plt.title(\"Hierarchical Clustering Dendrogram\")  # Dendrogram title\n",
    "\n",
    "# Display the dendrogram\n",
    "plt.show()"
   ]
  },
  {
   "cell_type": "code",
   "execution_count": 45,
   "id": "9e08fe6a-d6c0-427a-aac4-3ec03a00b72c",
   "metadata": {},
   "outputs": [
    {
     "data": {
      "image/png": "[encoded data removed]",
      "text/plain": [
       "<Figure size 1000x1000 with 1 Axes>"
      ]
     },
     "metadata": {},
     "output_type": "display_data"
    }
   ],
   "source": [
    "import numpy as np\n",
    "from scipy.cluster.hierarchy import dendrogram, linkage\n",
    "from matplotlib import pyplot as plt\n",
    "\n",
    "linked = linkage(df1, 'ward')\n",
    "\n",
    "#labelList = [\"foo\" for i in range(0, 20)]\n",
    "\n",
    "plt.figure(figsize=(10, 10))\n",
    "dendrogram(\n",
    "            linked,\n",
    "            orientation='right',\n",
    "            #labels=labelList,\n",
    "            distance_sort='descending',\n",
    "            show_leaf_counts=False\n",
    "          )\n",
    "plt.show()"
   ]
  },
  {
   "cell_type": "markdown",
   "id": "3b5edf85-177e-4791-9eb5-967b9106f551",
   "metadata": {},
   "source": [
    "2. Agglomerative Clustering"
   ]
  },
  {
   "cell_type": "code",
   "execution_count": 47,
   "id": "77511e75-fc1a-42b3-8d20-1547144df9fe",
   "metadata": {},
   "outputs": [
    {
     "data": {
      "image/png": "[encoded data removed]",
      "text/plain": [
       "<Figure size 640x480 with 1 Axes>"
      ]
     },
     "metadata": {},
     "output_type": "display_data"
    }
   ],
   "source": [
    "from sklearn.cluster import AgglomerativeClustering # from sklearn.cluster import AgglomerativeClustering\n",
    "from sklearn.metrics import silhouette_score # This line imports the silhouette_score function from the sklearn.metrics module, which will be used to calculate the silhouette score for the clustering results.\n",
    "import matplotlib.pyplot as plt # This line imports the matplotlib.pyplot module, which will be used to plot the results.\n",
    "\n",
    "silhouette_scores = [] # This line initializes an empty list to store the silhouette scores for different numbers of clusters.\n",
    "\n",
    "for n_cluster in range(2,15): # This loop iterates over the number of clusters from 2 to 14 (inclusive).\n",
    "    silhouette_scores.append(silhouette_score(df, AgglomerativeClustering(n_clusters = n_cluster).fit_predict(df))) # For each iteration of the loop, this line calculates the silhouette score for the Agglomerative Clustering algorithm with the current number of clusters, and appends the score to the silhouette_scores list.\n",
    "    \n",
    "# Plotting a bar graph to compare the results \n",
    "k = [2, 3, 4, 5, 6,7,8,9,10,11,12,13,14] # This line creates a list of the number of clusters used in the previous loop.\n",
    "plt.bar(k, silhouette_scores) # This line creates a bar graph with the number of clusters on the x-axis and the corresponding silhouette scores on the y-axis.\n",
    "plt.xlabel('Number of clusters', fontsize = 10) # This line sets the label for the x-axis.\n",
    "plt.ylabel('Silhouette Score', fontsize = 10) # This line sets the label for the y-axis.\n",
    "plt.grid() # This line adds a grid to the plot.\n",
    "plt.show() # This line displays the plot."
   ]
  },
  {
   "cell_type": "code",
   "execution_count": 121,
   "id": "958aeaab-7005-4c31-aa5d-f887aa43d173",
   "metadata": {},
   "outputs": [],
   "source": [
    "df1.drop(['ID'], axis=1, inplace=True)"
   ]
  },
  {
   "cell_type": "code",
   "execution_count": 122,
   "id": "80ac6be8-fa98-4f22-bc92-ff488087686b",
   "metadata": {},
   "outputs": [],
   "source": [
    "from sklearn.cluster import AgglomerativeClustering # This line imports the AgglomerativeClustering class from the sklearn.cluster module, which will be used to perform the clustering.\n",
    "hc = AgglomerativeClustering(n_clusters = 2,linkage = \"ward\") # This line creates an instance of the AgglomerativeClustering class with the number of clusters set to 2.\n",
    "cluster = hc.fit_predict(df1) # This line fits the Agglomerative Clustering model to the data in df1 and assigns the cluster labels to the cluster variable.\n",
    "df1[\"label\"] = clusters # This line adds a new column named \"label\" to the df1 DataFrame and assigns the cluster labels to it."
   ]
  },
  {
   "cell_type": "code",
   "execution_count": 123,
   "id": "ab9ed82c-950c-47e9-a676-622f975cd90d",
   "metadata": {},
   "outputs": [
    {
     "data": {
      "text/html": [
       "<div>\n",
       "<style scoped>\n",
       "    .dataframe tbody tr th:only-of-type {\n",
       "        vertical-align: middle;\n",
       "    }\n",
       "\n",
       "    .dataframe tbody tr th {\n",
       "        vertical-align: top;\n",
       "    }\n",
       "\n",
       "    .dataframe thead th {\n",
       "        text-align: right;\n",
       "    }\n",
       "</style>\n",
       "<table border=\"1\" class=\"dataframe\">\n",
       "  <thead>\n",
       "    <tr style=\"text-align: right;\">\n",
       "      <th></th>\n",
       "      <th>Unitprice</th>\n",
       "      <th>Expire date</th>\n",
       "      <th>Outbound number</th>\n",
       "      <th>Total outbound</th>\n",
       "      <th>Pal grossweight</th>\n",
       "      <th>Pal height</th>\n",
       "      <th>Units per pal</th>\n",
       "      <th>label</th>\n",
       "    </tr>\n",
       "  </thead>\n",
       "  <tbody>\n",
       "    <tr>\n",
       "      <th>0</th>\n",
       "      <td>0.058</td>\n",
       "      <td>547</td>\n",
       "      <td>9</td>\n",
       "      <td>2441.0</td>\n",
       "      <td>105.60</td>\n",
       "      <td>1.56</td>\n",
       "      <td>1920</td>\n",
       "      <td>1</td>\n",
       "    </tr>\n",
       "    <tr>\n",
       "      <th>1</th>\n",
       "      <td>0.954</td>\n",
       "      <td>547</td>\n",
       "      <td>0</td>\n",
       "      <td>0.0</td>\n",
       "      <td>207.68</td>\n",
       "      <td>1.00</td>\n",
       "      <td>384</td>\n",
       "      <td>1</td>\n",
       "    </tr>\n",
       "    <tr>\n",
       "      <th>2</th>\n",
       "      <td>2.385</td>\n",
       "      <td>547</td>\n",
       "      <td>12</td>\n",
       "      <td>23.0</td>\n",
       "      <td>165.78</td>\n",
       "      <td>1.02</td>\n",
       "      <td>108</td>\n",
       "      <td>1</td>\n",
       "    </tr>\n",
       "    <tr>\n",
       "      <th>3</th>\n",
       "      <td>5.100</td>\n",
       "      <td>547</td>\n",
       "      <td>0</td>\n",
       "      <td>0.0</td>\n",
       "      <td>221.04</td>\n",
       "      <td>1.05</td>\n",
       "      <td>72</td>\n",
       "      <td>1</td>\n",
       "    </tr>\n",
       "    <tr>\n",
       "      <th>4</th>\n",
       "      <td>0.000</td>\n",
       "      <td>547</td>\n",
       "      <td>0</td>\n",
       "      <td>0.0</td>\n",
       "      <td>0.00</td>\n",
       "      <td>0.00</td>\n",
       "      <td>0</td>\n",
       "      <td>1</td>\n",
       "    </tr>\n",
       "  </tbody>\n",
       "</table>\n",
       "</div>"
      ],
      "text/plain": [
       "   Unitprice  Expire date  Outbound number  Total outbound  Pal grossweight  \\\n",
       "0      0.058          547                9          2441.0           105.60   \n",
       "1      0.954          547                0             0.0           207.68   \n",
       "2      2.385          547               12            23.0           165.78   \n",
       "3      5.100          547                0             0.0           221.04   \n",
       "4      0.000          547                0             0.0             0.00   \n",
       "\n",
       "   Pal height  Units per pal  label  \n",
       "0        1.56           1920      1  \n",
       "1        1.00            384      1  \n",
       "2        1.02            108      1  \n",
       "3        1.05             72      1  \n",
       "4        0.00              0      1  "
      ]
     },
     "execution_count": 123,
     "metadata": {},
     "output_type": "execute_result"
    }
   ],
   "source": [
    "df1.head() # This line of code displays the first five rows of the DataFrame `df1` to provide a quick overview of the dataset's structure and contents, including its columns and initial data points."
   ]
  },
  {
   "cell_type": "code",
   "execution_count": 124,
   "id": "4997f760-f039-4c05-885a-dfbfb0c052f5",
   "metadata": {},
   "outputs": [],
   "source": [
    "df1.to_excel(r\"E:\\SNIGDHA\\IMI-K Course Outline & Study Material\\Term-IV\\Data Analytics & Machine Learning\\EndTerm Assignment\\stock+keeping+units\\test1_agglomerative.xlsx\")"
   ]
  },
  {
   "cell_type": "code",
   "execution_count": 126,
   "id": "15d500f2-8805-48e1-9eab-28fb346323ed",
   "metadata": {},
   "outputs": [
    {
     "data": {
      "text/html": [
       "<div>\n",
       "<style scoped>\n",
       "    .dataframe tbody tr th:only-of-type {\n",
       "        vertical-align: middle;\n",
       "    }\n",
       "\n",
       "    .dataframe tbody tr th {\n",
       "        vertical-align: top;\n",
       "    }\n",
       "\n",
       "    .dataframe thead th {\n",
       "        text-align: right;\n",
       "    }\n",
       "</style>\n",
       "<table border=\"1\" class=\"dataframe\">\n",
       "  <thead>\n",
       "    <tr style=\"text-align: right;\">\n",
       "      <th></th>\n",
       "      <th>Unitprice</th>\n",
       "      <th>Expire date</th>\n",
       "      <th>Outbound number</th>\n",
       "      <th>Total outbound</th>\n",
       "      <th>Pal grossweight</th>\n",
       "      <th>Pal height</th>\n",
       "      <th>Units per pal</th>\n",
       "      <th>label</th>\n",
       "    </tr>\n",
       "  </thead>\n",
       "  <tbody>\n",
       "    <tr>\n",
       "      <th>count</th>\n",
       "      <td>115.000000</td>\n",
       "      <td>115.000000</td>\n",
       "      <td>115.000000</td>\n",
       "      <td>115.000000</td>\n",
       "      <td>115.000000</td>\n",
       "      <td>115.000000</td>\n",
       "      <td>115.000000</td>\n",
       "      <td>115.0</td>\n",
       "    </tr>\n",
       "    <tr>\n",
       "      <th>mean</th>\n",
       "      <td>2.554991</td>\n",
       "      <td>580.469565</td>\n",
       "      <td>2744.626087</td>\n",
       "      <td>7985.127826</td>\n",
       "      <td>235.700626</td>\n",
       "      <td>0.984783</td>\n",
       "      <td>303.130435</td>\n",
       "      <td>0.0</td>\n",
       "    </tr>\n",
       "    <tr>\n",
       "      <th>std</th>\n",
       "      <td>3.234334</td>\n",
       "      <td>104.317861</td>\n",
       "      <td>1305.313019</td>\n",
       "      <td>5037.686256</td>\n",
       "      <td>91.008570</td>\n",
       "      <td>0.174348</td>\n",
       "      <td>316.326961</td>\n",
       "      <td>0.0</td>\n",
       "    </tr>\n",
       "    <tr>\n",
       "      <th>min</th>\n",
       "      <td>0.150000</td>\n",
       "      <td>0.000000</td>\n",
       "      <td>310.000000</td>\n",
       "      <td>2909.000000</td>\n",
       "      <td>105.600000</td>\n",
       "      <td>0.060000</td>\n",
       "      <td>32.000000</td>\n",
       "      <td>0.0</td>\n",
       "    </tr>\n",
       "    <tr>\n",
       "      <th>25%</th>\n",
       "      <td>0.918000</td>\n",
       "      <td>547.000000</td>\n",
       "      <td>1817.000000</td>\n",
       "      <td>4355.500000</td>\n",
       "      <td>167.680000</td>\n",
       "      <td>0.900000</td>\n",
       "      <td>108.000000</td>\n",
       "      <td>0.0</td>\n",
       "    </tr>\n",
       "    <tr>\n",
       "      <th>50%</th>\n",
       "      <td>1.760000</td>\n",
       "      <td>547.000000</td>\n",
       "      <td>2387.000000</td>\n",
       "      <td>6293.000000</td>\n",
       "      <td>207.680000</td>\n",
       "      <td>1.000000</td>\n",
       "      <td>288.000000</td>\n",
       "      <td>0.0</td>\n",
       "    </tr>\n",
       "    <tr>\n",
       "      <th>75%</th>\n",
       "      <td>2.664000</td>\n",
       "      <td>547.000000</td>\n",
       "      <td>3275.000000</td>\n",
       "      <td>10111.000000</td>\n",
       "      <td>325.120000</td>\n",
       "      <td>1.020000</td>\n",
       "      <td>384.000000</td>\n",
       "      <td>0.0</td>\n",
       "    </tr>\n",
       "    <tr>\n",
       "      <th>max</th>\n",
       "      <td>20.251000</td>\n",
       "      <td>730.000000</td>\n",
       "      <td>6325.000000</td>\n",
       "      <td>26411.000000</td>\n",
       "      <td>641.340000</td>\n",
       "      <td>1.680000</td>\n",
       "      <td>1920.000000</td>\n",
       "      <td>0.0</td>\n",
       "    </tr>\n",
       "  </tbody>\n",
       "</table>\n",
       "</div>"
      ],
      "text/plain": [
       "        Unitprice  Expire date  Outbound number  Total outbound  \\\n",
       "count  115.000000   115.000000       115.000000      115.000000   \n",
       "mean     2.554991   580.469565      2744.626087     7985.127826   \n",
       "std      3.234334   104.317861      1305.313019     5037.686256   \n",
       "min      0.150000     0.000000       310.000000     2909.000000   \n",
       "25%      0.918000   547.000000      1817.000000     4355.500000   \n",
       "50%      1.760000   547.000000      2387.000000     6293.000000   \n",
       "75%      2.664000   547.000000      3275.000000    10111.000000   \n",
       "max     20.251000   730.000000      6325.000000    26411.000000   \n",
       "\n",
       "       Pal grossweight  Pal height  Units per pal  label  \n",
       "count       115.000000  115.000000     115.000000  115.0  \n",
       "mean        235.700626    0.984783     303.130435    0.0  \n",
       "std          91.008570    0.174348     316.326961    0.0  \n",
       "min         105.600000    0.060000      32.000000    0.0  \n",
       "25%         167.680000    0.900000     108.000000    0.0  \n",
       "50%         207.680000    1.000000     288.000000    0.0  \n",
       "75%         325.120000    1.020000     384.000000    0.0  \n",
       "max         641.340000    1.680000    1920.000000    0.0  "
      ]
     },
     "execution_count": 126,
     "metadata": {},
     "output_type": "execute_result"
    }
   ],
   "source": [
    "df1[df1['label']==0].describe() # This code will provide a summary statistics for the rows in the df1 DataFrame where the 'label' column is equal to 0."
   ]
  },
  {
   "cell_type": "markdown",
   "id": "902c22fa-4aed-4a59-ae8a-7df57c0c38f1",
   "metadata": {},
   "source": [
    "Here we can see that the variation in min and max i.e the range is quite high. So the clustering can be improved more as the lower the difference the better the model is."
   ]
  },
  {
   "cell_type": "code",
   "execution_count": 127,
   "id": "ea71fb1f-2e5e-4725-a348-a7f19a2b38b6",
   "metadata": {},
   "outputs": [
    {
     "data": {
      "text/html": [
       "<div>\n",
       "<style scoped>\n",
       "    .dataframe tbody tr th:only-of-type {\n",
       "        vertical-align: middle;\n",
       "    }\n",
       "\n",
       "    .dataframe tbody tr th {\n",
       "        vertical-align: top;\n",
       "    }\n",
       "\n",
       "    .dataframe thead th {\n",
       "        text-align: right;\n",
       "    }\n",
       "</style>\n",
       "<table border=\"1\" class=\"dataframe\">\n",
       "  <thead>\n",
       "    <tr style=\"text-align: right;\">\n",
       "      <th></th>\n",
       "      <th>Unitprice</th>\n",
       "      <th>Expire date</th>\n",
       "      <th>Outbound number</th>\n",
       "      <th>Total outbound</th>\n",
       "      <th>Pal grossweight</th>\n",
       "      <th>Pal height</th>\n",
       "      <th>Units per pal</th>\n",
       "      <th>label</th>\n",
       "    </tr>\n",
       "  </thead>\n",
       "  <tbody>\n",
       "    <tr>\n",
       "      <th>count</th>\n",
       "      <td>2164.000000</td>\n",
       "      <td>2164.000000</td>\n",
       "      <td>2164.000000</td>\n",
       "      <td>2164.000000</td>\n",
       "      <td>2164.000000</td>\n",
       "      <td>2164.000000</td>\n",
       "      <td>2164.000000</td>\n",
       "      <td>2164.0</td>\n",
       "    </tr>\n",
       "    <tr>\n",
       "      <th>mean</th>\n",
       "      <td>4.360510</td>\n",
       "      <td>401.332255</td>\n",
       "      <td>102.660813</td>\n",
       "      <td>346.237061</td>\n",
       "      <td>190.667161</td>\n",
       "      <td>0.656218</td>\n",
       "      <td>779.606747</td>\n",
       "      <td>1.0</td>\n",
       "    </tr>\n",
       "    <tr>\n",
       "      <th>std</th>\n",
       "      <td>14.803971</td>\n",
       "      <td>242.718309</td>\n",
       "      <td>272.422379</td>\n",
       "      <td>752.908351</td>\n",
       "      <td>167.333611</td>\n",
       "      <td>0.560347</td>\n",
       "      <td>6441.880307</td>\n",
       "      <td>0.0</td>\n",
       "    </tr>\n",
       "    <tr>\n",
       "      <th>min</th>\n",
       "      <td>0.000000</td>\n",
       "      <td>0.000000</td>\n",
       "      <td>0.000000</td>\n",
       "      <td>0.000000</td>\n",
       "      <td>0.000000</td>\n",
       "      <td>0.000000</td>\n",
       "      <td>0.000000</td>\n",
       "      <td>1.0</td>\n",
       "    </tr>\n",
       "    <tr>\n",
       "      <th>25%</th>\n",
       "      <td>0.000000</td>\n",
       "      <td>365.000000</td>\n",
       "      <td>0.000000</td>\n",
       "      <td>0.000000</td>\n",
       "      <td>50.400000</td>\n",
       "      <td>0.000000</td>\n",
       "      <td>32.000000</td>\n",
       "      <td>1.0</td>\n",
       "    </tr>\n",
       "    <tr>\n",
       "      <th>50%</th>\n",
       "      <td>1.140000</td>\n",
       "      <td>547.000000</td>\n",
       "      <td>1.000000</td>\n",
       "      <td>2.000000</td>\n",
       "      <td>167.680000</td>\n",
       "      <td>0.800000</td>\n",
       "      <td>108.000000</td>\n",
       "      <td>1.0</td>\n",
       "    </tr>\n",
       "    <tr>\n",
       "      <th>75%</th>\n",
       "      <td>4.718000</td>\n",
       "      <td>547.000000</td>\n",
       "      <td>16.250000</td>\n",
       "      <td>262.250000</td>\n",
       "      <td>275.145000</td>\n",
       "      <td>1.020000</td>\n",
       "      <td>384.000000</td>\n",
       "      <td>1.0</td>\n",
       "    </tr>\n",
       "    <tr>\n",
       "      <th>max</th>\n",
       "      <td>518.592000</td>\n",
       "      <td>734.000000</td>\n",
       "      <td>1778.000000</td>\n",
       "      <td>6927.000000</td>\n",
       "      <td>907.200000</td>\n",
       "      <td>2.160000</td>\n",
       "      <td>200000.000000</td>\n",
       "      <td>1.0</td>\n",
       "    </tr>\n",
       "  </tbody>\n",
       "</table>\n",
       "</div>"
      ],
      "text/plain": [
       "         Unitprice  Expire date  Outbound number  Total outbound  \\\n",
       "count  2164.000000  2164.000000      2164.000000     2164.000000   \n",
       "mean      4.360510   401.332255       102.660813      346.237061   \n",
       "std      14.803971   242.718309       272.422379      752.908351   \n",
       "min       0.000000     0.000000         0.000000        0.000000   \n",
       "25%       0.000000   365.000000         0.000000        0.000000   \n",
       "50%       1.140000   547.000000         1.000000        2.000000   \n",
       "75%       4.718000   547.000000        16.250000      262.250000   \n",
       "max     518.592000   734.000000      1778.000000     6927.000000   \n",
       "\n",
       "       Pal grossweight   Pal height  Units per pal   label  \n",
       "count      2164.000000  2164.000000    2164.000000  2164.0  \n",
       "mean        190.667161     0.656218     779.606747     1.0  \n",
       "std         167.333611     0.560347    6441.880307     0.0  \n",
       "min           0.000000     0.000000       0.000000     1.0  \n",
       "25%          50.400000     0.000000      32.000000     1.0  \n",
       "50%         167.680000     0.800000     108.000000     1.0  \n",
       "75%         275.145000     1.020000     384.000000     1.0  \n",
       "max         907.200000     2.160000  200000.000000     1.0  "
      ]
     },
     "execution_count": 127,
     "metadata": {},
     "output_type": "execute_result"
    }
   ],
   "source": [
    "df1[df1['label']==1].describe() # This code will provide a summary statistics for the rows in the df1 DataFrame where the 'label' column is equal to 1."
   ]
  },
  {
   "cell_type": "markdown",
   "id": "698cf13a-f844-4ca9-b8aa-da070e41be52",
   "metadata": {},
   "source": [
    "Here also we can see that the variation in min and max i.e the range is quite high. So the clustering can be improved more as the lower the difference the better the model is."
   ]
  },
  {
   "cell_type": "code",
   "execution_count": 129,
   "id": "0bc33452-463e-40b1-a0c8-07ee3b3f72b4",
   "metadata": {},
   "outputs": [
    {
     "data": {
      "text/plain": [
       "0.9888422343622053"
      ]
     },
     "execution_count": 129,
     "metadata": {},
     "output_type": "execute_result"
    }
   ],
   "source": [
    "silhouette_score(df1, AgglomerativeClustering(n_clusters = 2).fit_predict(df1))"
   ]
  },
  {
   "cell_type": "markdown",
   "id": "16b2316b-a618-4c16-b90c-5c84ffca7a7d",
   "metadata": {},
   "source": [
    "Interpretation:\n",
    "\n",
    "The silhouette score is a metric that measures the quality of a clustering solution. If it ranges from 0 to 0.5 then it is satisfactory and if more than 0.5 that means the model is very good, with indicates better clustering. \n",
    "\n",
    "The value 0.9888422343622053 obtained from the code which is more than 0.5, which means that the clustering is done with very high score indicating good clustering model."
   ]
  },
  {
   "cell_type": "markdown",
   "id": "c2e4d41e-b652-4550-a92b-df5048f84316",
   "metadata": {},
   "source": [
    "Comparison :\n",
    "\n",
    "After looking at the Silhoutte Score of both KMeans & Agglomerative Clustering we can say that the performence of Agglomerative clustering is better in this case."
   ]
  }
 ],
 "metadata": {
  "kernelspec": {
   "display_name": "Python 3 (ipykernel)",
   "language": "python",
   "name": "python3"
  },
  "language_info": {
   "codemirror_mode": {
    "name": "ipython",
    "version": 3
   },
   "file_extension": ".py",
   "mimetype": "text/x-python",
   "name": "python",
   "nbconvert_exporter": "python",
   "pygments_lexer": "ipython3",
   "version": "3.11.7"
  }
 },
 "nbformat": 4,
 "nbformat_minor": 5
}
